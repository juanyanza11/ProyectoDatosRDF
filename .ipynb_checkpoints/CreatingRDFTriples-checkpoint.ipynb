{
 "cells": [
  {
   "cell_type": "markdown",
   "id": "f9395cd7-44b7-4d10-bf60-e9f89a642602",
   "metadata": {},
   "source": [
    "# RDF data Creation\n",
    "\n",
    "Source: https://rdflib.readthedocs.io/en/stable/intro_to_creating_rdf.html"
   ]
  },
  {
   "cell_type": "code",
   "execution_count": 35,
   "id": "ed3c964e-f9fa-4bff-9739-3d7a4b9a50e4",
   "metadata": {},
   "outputs": [],
   "source": [
    "from rdflib import URIRef, BNode, Literal\n",
    "from rdflib import Namespace\n",
    "from rdflib import Graph, URIRef, Literal, BNode"
   ]
  },
  {
   "cell_type": "markdown",
   "id": "17214a57-3bca-40ad-8478-42ff4c2b3225",
   "metadata": {},
   "source": [
    "## 1. Set prefixes:"
   ]
  },
  {
   "cell_type": "code",
   "execution_count": 36,
   "id": "fce6e733-9cf7-4f7a-8e47-da23db59bdba",
   "metadata": {},
   "outputs": [
    {
     "name": "stdout",
     "output_type": "stream",
     "text": [
      "http://www.w3.org/1999/02/22-rdf-syntax-ns#type\n"
     ]
    },
    {
     "data": {
      "text/plain": [
       "rdflib.term.URIRef('http://xmlns.com/foaf/0.1/knows')"
      ]
     },
     "execution_count": 36,
     "metadata": {},
     "output_type": "execute_result"
    }
   ],
   "source": [
    "# import prefixes of models that I will reuse:\n",
    "from rdflib.namespace import FOAF, RDF\n",
    "\n",
    "# Print some properties:\n",
    "print(RDF.type)\n",
    "# == \"http://www.w3.org/1999/02/22-rdf-syntax-ns#type\"\n",
    "\n",
    "FOAF.knows\n",
    "# == rdflib.term.URIRef(\"http://xmlns.com/foaf/0.1/knows\")"
   ]
  },
  {
   "cell_type": "code",
   "execution_count": 40,
   "id": "37ed7e89-0d46-4115-9cb3-d801269a53ee",
   "metadata": {},
   "outputs": [],
   "source": [
    "# prefix for my data\n",
    "strprefix = \"http://example.org/course/\"\n",
    "data = Namespace(strprefix) \n",
    "data\n",
    "\n",
    "#prefix for external prefix that is not available in rdflib.namespace:\n",
    "dbo = Namespace('http://dbpedia.org/ontology/')"
   ]
  },
  {
   "cell_type": "markdown",
   "id": "89113e75-d1c2-42f6-bbd4-ca1a978d96f3",
   "metadata": {},
   "source": [
    "## 2. Load my data from a structured dataset "
   ]
  },
  {
   "cell_type": "code",
   "execution_count": 64,
   "id": "3ce067c5-4b7a-4354-ab79-6d3d59f436a1",
   "metadata": {},
   "outputs": [],
   "source": [
    "#Load my structured data:\n",
    "students = [['Paúl Diaz', 27, 'Ecuador'], ['Ana Castillo', 26, 'Peru']]\n"
   ]
  },
  {
   "cell_type": "markdown",
   "id": "b7845b0a-6d2f-4120-a212-6b24dc35a6b4",
   "metadata": {},
   "source": [
    "## 3. Add Triples to a graph\n",
    "\n",
    "Triples can be added within Python code directly, using the add() function:\n",
    "\n",
    "Graph.add(triple) # Add a triple with self as context"
   ]
  },
  {
   "cell_type": "code",
   "execution_count": null,
   "id": "ab2b3fc1-be2f-4d19-8365-19d1e539e07e",
   "metadata": {},
   "outputs": [],
   "source": [
    "# Create my graph:\n",
    "\n",
    "g = Graph()"
   ]
  },
  {
   "cell_type": "code",
   "execution_count": 65,
   "id": "8f694a79-57ed-491a-8ed6-cd8bbc424190",
   "metadata": {},
   "outputs": [
    {
     "name": "stdout",
     "output_type": "stream",
     "text": [
      "http://example.org/course/PaulDiaz\n",
      "http://example.org/course/AnaCastillo\n"
     ]
    }
   ],
   "source": [
    "from unicodedata import normalize\n",
    "\n",
    "#A partir del nombre se fijará la URI, por tanto, se necesita formatear el texto para quitar tildes:\n",
    "a,b = 'áéíóúü','aeiouu'\n",
    "trans = str.maketrans(a,b)\n",
    "\n",
    "# Recorrer la data e ir creando los datos:\n",
    "for s in students:\n",
    "    studentURI = URIRef(strprefix + s[0].replace(' ', '').translate(trans))\n",
    "    print(studentURI)\n",
    "    name = Literal(s[0])\n",
    "    age = Literal(s[1])\n",
    "    countryURI = URIRef(\"http://dbpedia.org/resource/\" + s[2].replace(' ', '').translate(trans))\n",
    "    g.add((studentURI, RDF.type, FOAF.Person))\n",
    "    g.add((studentURI, FOAF.name, name))\n",
    "    g.add((studentURI, FOAF.age, age))\n",
    "    g.add((studentURI, dbo.birthPlace, countryURI))"
   ]
  },
  {
   "cell_type": "code",
   "execution_count": 67,
   "id": "339b5cde-7829-4f74-9261-c06dfea14232",
   "metadata": {},
   "outputs": [
    {
     "name": "stdout",
     "output_type": "stream",
     "text": [
      "@prefix ns1: <http://xmlns.com/foaf/0.1/> .\n",
      "@prefix ns2: <http://dbpedia.org/ontology/> .\n",
      "@prefix xsd: <http://www.w3.org/2001/XMLSchema#> .\n",
      "\n",
      "<http://example.org/course/PaulDiaz> a ns1:Person ;\n",
      "    ns2:birthPlace <http://dbpedia.org/resource/Ecuador> ;\n",
      "    ns1:age 27 ;\n",
      "    ns1:knows <http://example.org/course/AnaCastillo> ;\n",
      "    ns1:name \"Paúl Diaz\" .\n",
      "\n",
      "<http://example.org/course/AnaCastillo> a ns1:Person ;\n",
      "    ns2:birthPlace <http://dbpedia.org/resource/Peru> ;\n",
      "    ns1:age 26 ;\n",
      "    ns1:name \"Ana Castillo\" .\n",
      "\n",
      "\n"
     ]
    }
   ],
   "source": [
    "#Agregar una tripleta para un nodo específico.\n",
    "g.add((URIRef('http://example.org/course/PaulDiaz'), FOAF.knows, URIRef('http://example.org/course/AnaCastillo')))\n",
    "g.print()\n",
    "\n"
   ]
  },
  {
   "cell_type": "markdown",
   "id": "079442a7-0bc2-4fc3-b845-a273b5e92ec2",
   "metadata": {},
   "source": [
    "## 4. Imprimir y exportar datos RDF"
   ]
  },
  {
   "cell_type": "code",
   "execution_count": 66,
   "id": "ffabe346-d4ce-4ebf-9dc5-c1f1f929dcdc",
   "metadata": {},
   "outputs": [
    {
     "name": "stdout",
     "output_type": "stream",
     "text": [
      "@prefix ns1: <http://xmlns.com/foaf/0.1/> .\n",
      "@prefix ns2: <http://dbpedia.org/ontology/> .\n",
      "@prefix xsd: <http://www.w3.org/2001/XMLSchema#> .\n",
      "\n",
      "<http://example.org/course/AnaCastillo> a ns1:Person ;\n",
      "    ns2:birthPlace <http://dbpedia.org/resource/Peru> ;\n",
      "    ns1:age 26 ;\n",
      "    ns1:name \"Ana Castillo\" .\n",
      "\n",
      "<http://example.org/course/PaulDiaz> a ns1:Person ;\n",
      "    ns2:birthPlace <http://dbpedia.org/resource/Ecuador> ;\n",
      "    ns1:age 27 ;\n",
      "    ns1:name \"Paúl Diaz\" .\n",
      "\n",
      "\n"
     ]
    }
   ],
   "source": [
    "# Imprimir grafo:\n",
    "print(g.serialize()) # or use g.print()\n",
    "\n",
    "# g.all_nodes() # print all nodes\n"
   ]
  },
  {
   "cell_type": "code",
   "execution_count": 68,
   "id": "e4c5a8d4-b54c-4df8-ab7c-319310ec7471",
   "metadata": {},
   "outputs": [
    {
     "name": "stdout",
     "output_type": "stream",
     "text": [
      "http://example.org/course/AnaCastillo\n",
      "9\n",
      "(rdflib.term.URIRef('http://example.org/course/PaulDiaz'),\n",
      " rdflib.term.URIRef('http://xmlns.com/foaf/0.1/age'),\n",
      " rdflib.term.Literal('27', datatype=rdflib.term.URIRef('http://www.w3.org/2001/XMLSchema#integer')))\n",
      "(rdflib.term.URIRef('http://example.org/course/PaulDiaz'),\n",
      " rdflib.term.URIRef('http://www.w3.org/1999/02/22-rdf-syntax-ns#type'),\n",
      " rdflib.term.URIRef('http://xmlns.com/foaf/0.1/Person'))\n",
      "(rdflib.term.URIRef('http://example.org/course/AnaCastillo'),\n",
      " rdflib.term.URIRef('http://xmlns.com/foaf/0.1/age'),\n",
      " rdflib.term.Literal('26', datatype=rdflib.term.URIRef('http://www.w3.org/2001/XMLSchema#integer')))\n",
      "(rdflib.term.URIRef('http://example.org/course/PaulDiaz'),\n",
      " rdflib.term.URIRef('http://xmlns.com/foaf/0.1/knows'),\n",
      " rdflib.term.URIRef('http://example.org/course/AnaCastillo'))\n",
      "(rdflib.term.URIRef('http://example.org/course/AnaCastillo'),\n",
      " rdflib.term.URIRef('http://xmlns.com/foaf/0.1/name'),\n",
      " rdflib.term.Literal('Ana Castillo'))\n",
      "(rdflib.term.URIRef('http://example.org/course/AnaCastillo'),\n",
      " rdflib.term.URIRef('http://www.w3.org/1999/02/22-rdf-syntax-ns#type'),\n",
      " rdflib.term.URIRef('http://xmlns.com/foaf/0.1/Person'))\n",
      "(rdflib.term.URIRef('http://example.org/course/PaulDiaz'),\n",
      " rdflib.term.URIRef('http://dbpedia.org/ontology/birthPlace'),\n",
      " rdflib.term.URIRef('http://dbpedia.org/resource/Ecuador'))\n",
      "(rdflib.term.URIRef('http://example.org/course/AnaCastillo'),\n",
      " rdflib.term.URIRef('http://dbpedia.org/ontology/birthPlace'),\n",
      " rdflib.term.URIRef('http://dbpedia.org/resource/Peru'))\n",
      "(rdflib.term.URIRef('http://example.org/course/PaulDiaz'),\n",
      " rdflib.term.URIRef('http://xmlns.com/foaf/0.1/name'),\n",
      " rdflib.term.Literal('Paúl Diaz'))\n",
      "http://example.org/course/PaulDiaz http://xmlns.com/foaf/0.1/age 27\n",
      "http://example.org/course/AnaCastillo http://xmlns.com/foaf/0.1/age 26\n"
     ]
    }
   ],
   "source": [
    "# Varias formas de impresión y visualización\n",
    "\n",
    "# Imprimir el valor específico de la propiedad de un nodo: rdflib.graph.Graph.value() is the matching query method\n",
    "print(g.value(URIRef('http://example.org/course/PaulDiaz'), FOAF.knows))\n",
    "\n",
    "# Imprimir cuántas tripletas exiten en el grafo:\n",
    "print(len(g))\n",
    "\n",
    "# Recorrer e imprimir cada tripleta:\n",
    "import pprint\n",
    "for stmt in g:\n",
    "    pprint.pprint(stmt)\n",
    "    \n",
    "\n",
    "# for every foaf:member_name, add foaf:name and remove foaf:member_name\n",
    "for s, p, o in g.triples((None, FOAF['age'], None)):\n",
    "    print(s,p,o)"
   ]
  },
  {
   "cell_type": "markdown",
   "id": "6bf2c72d-34a1-4ef8-a6cf-44e31abab927",
   "metadata": {},
   "source": [
    "## Saving RDF\n",
    "\n",
    "To store a graph in a file, use the rdflib.Graph.serialize() function:"
   ]
  },
  {
   "cell_type": "code",
   "execution_count": 69,
   "id": "0e03e289-d2ca-4567-9021-1c3d960fed1d",
   "metadata": {},
   "outputs": [
    {
     "data": {
      "text/plain": [
       "<Graph identifier=Nc076c4d145994032bc8f0516c5304d6f (<class 'rdflib.graph.Graph'>)>"
      ]
     },
     "execution_count": 69,
     "metadata": {},
     "output_type": "execute_result"
    }
   ],
   "source": [
    "g.serialize(destination=\"students.ttl\") # turtle format as a default."
   ]
  },
  {
   "cell_type": "markdown",
   "id": "f1b37e8f-4509-4ed7-8f2a-0c3f7b405f42",
   "metadata": {},
   "source": [
    "## Load data from rdf file"
   ]
  },
  {
   "cell_type": "code",
   "execution_count": 70,
   "id": "4e5140fe-7fb3-482b-8ca9-c013f63122f9",
   "metadata": {},
   "outputs": [
    {
     "data": {
      "text/plain": [
       "'<?xml version=\"1.0\" encoding=\"UTF-8\"?>\\n<rdf:RDF\\n   xmlns:ns1=\"http://xmlns.com/foaf/0.1/\"\\n   xmlns:ns2=\"http://dbpedia.org/ontology/\"\\n   xmlns:rdf=\"http://www.w3.org/1999/02/22-rdf-syntax-ns#\"\\n>\\n  <rdf:Description rdf:about=\"http://example.org/course/PaulDiaz\">\\n    <rdf:type rdf:resource=\"http://xmlns.com/foaf/0.1/Person\"/>\\n    <ns2:birthPlace rdf:resource=\"http://dbpedia.org/resource/Ecuador\"/>\\n    <ns1:age rdf:datatype=\"http://www.w3.org/2001/XMLSchema#integer\">27</ns1:age>\\n    <ns1:knows rdf:resource=\"http://example.org/course/AnaCastillo\"/>\\n    <ns1:name>Paúl Diaz</ns1:name>\\n  </rdf:Description>\\n  <rdf:Description rdf:about=\"http://example.org/course/AnaCastillo\">\\n    <rdf:type rdf:resource=\"http://xmlns.com/foaf/0.1/Person\"/>\\n    <ns2:birthPlace rdf:resource=\"http://dbpedia.org/resource/Peru\"/>\\n    <ns1:age rdf:datatype=\"http://www.w3.org/2001/XMLSchema#integer\">26</ns1:age>\\n    <ns1:name>Ana Castillo</ns1:name>\\n  </rdf:Description>\\n</rdf:RDF>\\n'"
      ]
     },
     "execution_count": 70,
     "metadata": {},
     "output_type": "execute_result"
    }
   ],
   "source": [
    "from rdflib import Graph\n",
    "\n",
    "gn = Graph()\n",
    "gn.parse(\"students.ttl\")\n",
    "v = gn.serialize(format=\"xml\")\n",
    "v # v a string in the RDF/XML format"
   ]
  },
  {
   "cell_type": "markdown",
   "id": "8bdaeeab-bf5d-42a6-97f8-8deb0a8447ef",
   "metadata": {},
   "source": [
    "## Extra: Removing Triples\n",
    "\n",
    "Similarly, triples can be removed by a call to remove():\n",
    "\n",
    "Graph.remove(triple)[source]\n",
    "Remove a triple from the graph\n",
    "\n",
    "If the triple does not provide a context attribute, removes the triple from all contexts.\n",
    "When removing, it is possible to leave parts of the triple unspecified (i.e. passing None), this will remove all matching triples:"
   ]
  },
  {
   "cell_type": "code",
   "execution_count": 71,
   "id": "939930ab-3ec9-4b0d-9437-241d384fd7fa",
   "metadata": {},
   "outputs": [
    {
     "data": {
      "text/plain": [
       "'<http://example.org/course/PaulDiaz> <http://xmlns.com/foaf/0.1/age> \"27\"^^<http://www.w3.org/2001/XMLSchema#integer> .\\n<http://example.org/course/PaulDiaz> <http://www.w3.org/1999/02/22-rdf-syntax-ns#type> <http://xmlns.com/foaf/0.1/Person> .\\n<http://example.org/course/PaulDiaz> <http://xmlns.com/foaf/0.1/knows> <http://example.org/course/AnaCastillo> .\\n<http://example.org/course/AnaCastillo> <http://xmlns.com/foaf/0.1/name> \"Ana Castillo\" .\\n<http://example.org/course/AnaCastillo> <http://www.w3.org/1999/02/22-rdf-syntax-ns#type> <http://xmlns.com/foaf/0.1/Person> .\\n<http://example.org/course/PaulDiaz> <http://xmlns.com/foaf/0.1/name> \"Pa\\\\u00FAl Diaz\" .\\n<http://example.org/course/PaulDiaz> <http://dbpedia.org/ontology/birthPlace> <http://dbpedia.org/resource/Ecuador> .\\n<http://example.org/course/AnaCastillo> <http://dbpedia.org/ontology/birthPlace> <http://dbpedia.org/resource/Peru> .\\n\\n'"
      ]
     },
     "execution_count": 71,
     "metadata": {},
     "output_type": "execute_result"
    }
   ],
   "source": [
    "g.remove((URIRef('http://example.org/course/AnaCastillo'), URIRef(FOAF.age), None))  # remove a triplet\n",
    "\n",
    "# Imprimir en un formato de serialización específica:   \n",
    "g.serialize(format='nt')"
   ]
  },
  {
   "cell_type": "code",
   "execution_count": null,
   "id": "463f6f36-52ab-4e4f-bd50-7fecaabb8f0d",
   "metadata": {},
   "outputs": [],
   "source": []
  }
 ],
 "metadata": {
  "kernelspec": {
   "display_name": "Python 3",
   "language": "python",
   "name": "python3"
  },
  "language_info": {
   "codemirror_mode": {
    "name": "ipython",
    "version": 3
   },
   "file_extension": ".py",
   "mimetype": "text/x-python",
   "name": "python",
   "nbconvert_exporter": "python",
   "pygments_lexer": "ipython3",
   "version": "3.7.9"
  }
 },
 "nbformat": 4,
 "nbformat_minor": 5
}
